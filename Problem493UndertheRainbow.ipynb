{
 "cells": [
  {
   "cell_type": "markdown",
   "metadata": {},
   "source": [
    "<b>Under The Rainbow</b>\n",
    "\n",
    "Problem 493: </br>\n",
    "70 coloured balls are placed in an urn, 10 for each of the seven rainbow colours.\n",
    "\n",
    "What is the expected number of distinct colours in 20 randomly picked balls?\n",
    "\n",
    "Give your answer with nine digits after the decimal point (a.bcdefghij)."
   ]
  },
  {
   "cell_type": "code",
   "execution_count": 32,
   "metadata": {},
   "outputs": [
    {
     "name": "stdout",
     "output_type": "stream",
     "text": [
      "1\n",
      "[1]\n",
      "2\n",
      "[1, 2]\n",
      "3\n",
      "[1, 2, 3]\n",
      "4\n",
      "[1, 2, 3]\n",
      "5\n",
      "[1, 2, 3]\n",
      "6\n",
      "[1, 2, 3]\n"
     ]
    }
   ],
   "source": [
    "# abridged test case w blcak / red\n",
    "n_balls = 6\n",
    "n_colors = 3\n",
    "n_picked = 6\n",
    "\n",
    "P_counter = 0\n",
    "for pick in range(1, n_picked+1) :\n",
    "    print(pick)\n",
    "    \n",
    "    # calculcate vector of possible # colors\n",
    "    if pick >= n_colors :\n",
    "        P_max = n_colors\n",
    "    else :\n",
    "        P_max = pick\n",
    "    \n",
    "    \n",
    "    \n",
    "    x = [z for z in range(1, P_max+1)]\n",
    "        \n",
    "    # create x\n",
    "    print(x)\n",
    "    \n",
    "    # populcate vector of probability\n",
    "    #this is a function of the remaining balls and the possible_colors so far\n",
    "    \n",
    "    # multiply and sum vectors\n",
    "    #ez\n",
    "    \n",
    "    # generate ex\n",
    "    #ez\n",
    "    "
   ]
  },
  {
   "cell_type": "code",
   "execution_count": null,
   "metadata": {},
   "outputs": [],
   "source": []
  },
  {
   "cell_type": "code",
   "execution_count": null,
   "metadata": {},
   "outputs": [],
   "source": []
  }
 ],
 "metadata": {
  "kernelspec": {
   "display_name": "Python 3",
   "language": "python",
   "name": "python3"
  },
  "language_info": {
   "codemirror_mode": {
    "name": "ipython",
    "version": 3
   },
   "file_extension": ".py",
   "mimetype": "text/x-python",
   "name": "python",
   "nbconvert_exporter": "python",
   "pygments_lexer": "ipython3",
   "version": "3.6.5"
  }
 },
 "nbformat": 4,
 "nbformat_minor": 2
}
