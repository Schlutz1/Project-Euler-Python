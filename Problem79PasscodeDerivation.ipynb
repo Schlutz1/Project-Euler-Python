{
 "cells": [
  {
   "cell_type": "markdown",
   "metadata": {},
   "source": [
    "For some vector x of length n\n",
    "\n",
    "50 tuples (a,b,c) are selected from x\n",
    "\n",
    "x[i] = a, x[j] = b, x[k] = c where i < j < k"
   ]
  },
  {
   "cell_type": "code",
   "execution_count": 9,
   "metadata": {},
   "outputs": [],
   "source": [
    "# read in txt file\n",
    "f = open(\"Problem79.txt\", \"r\")\n",
    "login_attempts = []\n",
    "for line in f :\n",
    "    login_attempt = line.strip(\"\\n\")\n",
    "    login_attempts.append(login_attempt)"
   ]
  },
  {
   "cell_type": "code",
   "execution_count": 25,
   "metadata": {},
   "outputs": [],
   "source": [
    "passcode_dict = {}\n",
    "\n",
    "# iterate over each login attempt\n",
    "for la in login_attempts :\n",
    "    \n",
    "    array_la = [x for x in la]\n",
    "    \n",
    "    for counter, entry in enumerate(array_la) :\n",
    "        \n",
    "        before_values = array_la[:counter]\n",
    "        after_values = array_la[counter+1:]\n",
    "        \n",
    "        before_key = 'before-{0}'.format(entry)\n",
    "        after_key = 'after-{0}'.format(entry)\n",
    "        \n",
    "        if before_key in passcode_dict :\n",
    "            passcode_dict[before_key] += before_values\n",
    "        else :\n",
    "            passcode_dict[before_key] = before_values\n",
    "            \n",
    "        if after_key in passcode_dict :\n",
    "            passcode_dict[after_key] += after_values\n",
    "        else :\n",
    "            passcode_dict[after_key] = after_values\n",
    "\n",
    "for k, v in passcode_dict.items() :\n",
    "    passcode_dict[k] = list(set(v))"
   ]
  },
  {
   "cell_type": "code",
   "execution_count": 26,
   "metadata": {},
   "outputs": [
    {
     "data": {
      "text/plain": [
       "{'before-3': ['7'],\n",
       " 'after-3': ['2', '1', '6', '8', '0', '9'],\n",
       " 'before-1': ['7', '3'],\n",
       " 'after-1': ['2', '6', '8', '0', '9'],\n",
       " 'before-9': ['7', '2', '1', '6', '8', '3'],\n",
       " 'after-9': ['0'],\n",
       " 'before-6': ['7', '3', '1'],\n",
       " 'after-6': ['0', '8', '2', '9'],\n",
       " 'before-8': ['7', '2', '1', '6', '3'],\n",
       " 'after-8': ['9', '0'],\n",
       " 'before-0': ['7', '2', '1', '6', '8', '9', '3'],\n",
       " 'after-0': [],\n",
       " 'before-2': ['6', '7', '3', '1'],\n",
       " 'after-2': ['9', '0', '8'],\n",
       " 'before-7': [],\n",
       " 'after-7': ['2', '1', '6', '8', '0', '9', '3']}"
      ]
     },
     "execution_count": 26,
     "metadata": {},
     "output_type": "execute_result"
    }
   ],
   "source": [
    "passcode_dict"
   ]
  },
  {
   "cell_type": "code",
   "execution_count": 29,
   "metadata": {},
   "outputs": [
    {
     "data": {
      "text/plain": [
       "{1: ['7'],\n",
       " 2: ['7', '3'],\n",
       " 6: ['7', '2', '1', '6', '8', '3'],\n",
       " 3: ['7', '3', '1'],\n",
       " 5: ['7', '2', '1', '6', '3'],\n",
       " 7: ['7', '2', '1', '6', '8', '9', '3'],\n",
       " 4: ['6', '7', '3', '1'],\n",
       " 0: []}"
      ]
     },
     "execution_count": 29,
     "metadata": {},
     "output_type": "execute_result"
    }
   ],
   "source": [
    "tmp = {}\n",
    "for k, v in passcode_dict.items() :\n",
    "    if \"before\" in k :\n",
    "            key = \"k - {0}\".format()\n",
    "            tmp[len(v)] = v\n",
    "tmp "
   ]
  },
  {
   "cell_type": "code",
   "execution_count": null,
   "metadata": {},
   "outputs": [],
   "source": []
  }
 ],
 "metadata": {
  "kernelspec": {
   "display_name": "Python 3",
   "language": "python",
   "name": "python3"
  },
  "language_info": {
   "codemirror_mode": {
    "name": "ipython",
    "version": 3
   },
   "file_extension": ".py",
   "mimetype": "text/x-python",
   "name": "python",
   "nbconvert_exporter": "python",
   "pygments_lexer": "ipython3",
   "version": "3.6.5"
  }
 },
 "nbformat": 4,
 "nbformat_minor": 2
}
