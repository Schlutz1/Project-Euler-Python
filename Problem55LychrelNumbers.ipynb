{
 "cells": [
  {
   "cell_type": "code",
   "execution_count": 43,
   "metadata": {},
   "outputs": [],
   "source": [
    "def isPrime(n):\n",
    "    \"\"\"primality testing for some int n\"\"\"\n",
    "    if n == 2 or n == 3: return True\n",
    "    if n < 2 or n%2 == 0: return False\n",
    "    if n < 9: return True\n",
    "    if n%3 == 0: return False\n",
    "    r = int(n**0.5)\n",
    "    f = 5\n",
    "    while f <= r:\n",
    "        if n%f == 0: return False\n",
    "        if n%(f+2) == 0: return False\n",
    "        f +=6\n",
    "    return True\n",
    "\n",
    "def isPalindrome(n) :\n",
    "    \"\"\"palindrome testin for some int n\"\"\" \n",
    "    if n == getReverse(n) :\n",
    "        return True\n",
    "    return False\n",
    "\n",
    "def getReverse(n) :\n",
    "    \"\"\"generates the reversed value of n\n",
    "    i.e. 349 -> 943, 1292 -> 2921, 4213 -> 3124\n",
    "    \"\"\"\n",
    "    n_array = [x for x in str(n)][::-1]\n",
    "    return int(''.join(n_array))"
   ]
  },
  {
   "cell_type": "code",
   "execution_count": 61,
   "metadata": {},
   "outputs": [
    {
     "data": {
      "text/plain": [
       "249"
      ]
     },
     "execution_count": 61,
     "metadata": {},
     "output_type": "execute_result"
    }
   ],
   "source": [
    "def isLychrel(n) :\n",
    "    for i in range(50) :\n",
    "        rev_n = getReverse(n)\n",
    "        x = n + rev_n\n",
    "        if isPalindrome(x) :\n",
    "            return False\n",
    "        n = x\n",
    "    return True\n",
    "\n",
    "lychrel_counter = 0\n",
    "for n in range(10, 10000) :\n",
    "    if isLychrel(n) :\n",
    "        lychrel_counter += 1\n",
    "        \n",
    "lychrel_counter"
   ]
  },
  {
   "cell_type": "code",
   "execution_count": null,
   "metadata": {},
   "outputs": [],
   "source": []
  },
  {
   "cell_type": "code",
   "execution_count": null,
   "metadata": {},
   "outputs": [],
   "source": []
  }
 ],
 "metadata": {
  "kernelspec": {
   "display_name": "Python 3",
   "language": "python",
   "name": "python3"
  },
  "language_info": {
   "codemirror_mode": {
    "name": "ipython",
    "version": 3
   },
   "file_extension": ".py",
   "mimetype": "text/x-python",
   "name": "python",
   "nbconvert_exporter": "python",
   "pygments_lexer": "ipython3",
   "version": "3.6.5"
  }
 },
 "nbformat": 4,
 "nbformat_minor": 2
}
