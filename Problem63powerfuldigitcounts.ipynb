{
 "cells": [
  {
   "cell_type": "markdown",
   "metadata": {},
   "source": [
    "The 5-digit number, 16807=7^5, is also a fifth power. Similarly, the 9-digit number, 134217728=8^9, is a ninth power.\n",
    "\n",
    "How many n-digit positive integers exist which are also an nth power?"
   ]
  },
  {
   "cell_type": "code",
   "execution_count": 17,
   "metadata": {},
   "outputs": [
    {
     "data": {
      "text/plain": [
       "49"
      ]
     },
     "execution_count": 17,
     "metadata": {},
     "output_type": "execute_result"
    }
   ],
   "source": [
    "# determine upper bound, work backwards\n",
    "\n",
    "# I feel like 100 is a reasonable upper bound, as len(str(2*100)) is strictly > 100\n",
    "\n",
    "# test case w n < 10\n",
    "valid_integer_counter = 0\n",
    "for n in range(100) :\n",
    "    \n",
    "    less_than_length = True\n",
    "    counter = 1\n",
    "    while less_than_length :\n",
    "        \n",
    "        x = len(str(counter ** n))\n",
    "        \n",
    "        if x > n :\n",
    "            less_than_length = False\n",
    "            continue\n",
    "        \n",
    "        # is valid \n",
    "        if x == n :\n",
    "            valid_integer_counter += 1\n",
    "            #print(counter**n, x, n)\n",
    "            \n",
    "        counter += 1\n",
    "      \n",
    "valid_integer_counter"
   ]
  },
  {
   "cell_type": "code",
   "execution_count": null,
   "metadata": {},
   "outputs": [],
   "source": []
  }
 ],
 "metadata": {
  "kernelspec": {
   "display_name": "Python 3",
   "language": "python",
   "name": "python3"
  },
  "language_info": {
   "codemirror_mode": {
    "name": "ipython",
    "version": 3
   },
   "file_extension": ".py",
   "mimetype": "text/x-python",
   "name": "python",
   "nbconvert_exporter": "python",
   "pygments_lexer": "ipython3",
   "version": "3.6.5"
  }
 },
 "nbformat": 4,
 "nbformat_minor": 2
}
