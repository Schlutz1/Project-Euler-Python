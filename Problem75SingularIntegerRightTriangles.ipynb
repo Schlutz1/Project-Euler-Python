{
 "cells": [
  {
   "cell_type": "markdown",
   "metadata": {},
   "source": [
    "### Singular integer right triangles\n",
    "##### Problem 75\n",
    "\n",
    "It turns out that 12 cm is the smallest length of wire that can be bent to form an integer sided right angle triangle in exactly one way, but there are many more examples.\n",
    "\n",
    "12 cm: (3,4,5)\n",
    "24 cm: (6,8,10)\n",
    "30 cm: (5,12,13)\n",
    "36 cm: (9,12,15)\n",
    "40 cm: (8,15,17)\n",
    "48 cm: (12,16,20)\n",
    "\n",
    "In contrast, some lengths of wire, like 20 cm, cannot be bent to form an integer sided right angle triangle, and other lengths allow more than one solution to be found; for example, using 120 cm it is possible to form exactly three different integer sided right angle triangles.\n",
    "\n",
    "120 cm: (30,40,50), (20,48,52), (24,45,51)\n",
    "\n",
    "Given that L is the length of the wire, for how many values of L ≤ 1,500,000 can exactly one integer sided right angle triangle be formed?"
   ]
  },
  {
   "cell_type": "markdown",
   "metadata": {},
   "source": [
    "##### Improved soln via wikipedia:\n",
    "* a = 2mn\n",
    "* b = m^2 - n^2\n",
    "* c = m^2 + n^2\n",
    "\n",
    "##### Written soln\n",
    "\n",
    "For some length L, we have variables a <= b <= c, such that: \n",
    "* a^2 + b^2 = c^2 \n",
    "* a + b + c = L\n",
    "\n",
    "With limits:\n",
    "* c > L/3 (if less than a third, then a + b + c < L)\n",
    "* a < L / 2 (if greater than half, then a+ b + c > L)\n",
    "* a < b < c (per above)"
   ]
  },
  {
   "cell_type": "code",
   "execution_count": 10,
   "metadata": {},
   "outputs": [
    {
     "data": {
      "text/plain": [
       "866"
      ]
     },
     "execution_count": 10,
     "metadata": {},
     "output_type": "execute_result"
    }
   ],
   "source": [
    "limit = 1500000\n",
    "m_limit = int((limit / 2)**0.5)\n",
    "\n",
    "for m in range(2, mlimit) :\n",
    "    for n in range(1, m) :\n",
    "        \n",
    "        if ()"
   ]
  },
  {
   "cell_type": "markdown",
   "metadata": {},
   "source": [
    "This method is too slow:"
   ]
  },
  {
   "cell_type": "code",
   "execution_count": 2,
   "metadata": {},
   "outputs": [
    {
     "name": "stderr",
     "output_type": "stream",
     "text": [
      "\n",
      "  0%|                                              | 0/1499999 [00:00<?, ?it/s]\n",
      "  0%|                                    | 76/1499999 [00:00<33:13, 752.40it/s]\n",
      "  0%|                                  | 99/1499999 [00:00<1:07:16, 371.55it/s]\n",
      "  0%|                                 | 120/1499999 [00:00<2:04:35, 200.63it/s]\n",
      "  0%|                                 | 138/1499999 [00:00<3:20:08, 124.90it/s]\n",
      "  0%|                                  | 153/1499999 [00:01<4:56:05, 84.42it/s]\n",
      "  0%|                                  | 165/1499999 [00:01<7:05:23, 58.76it/s]"
     ]
    },
    {
     "ename": "KeyboardInterrupt",
     "evalue": "",
     "output_type": "error",
     "traceback": [
      "\u001b[1;31m---------------------------------------------------------------------------\u001b[0m",
      "\u001b[1;31mKeyboardInterrupt\u001b[0m                         Traceback (most recent call last)",
      "\u001b[1;32m<ipython-input-2-a281bbc4515e>\u001b[0m in \u001b[0;36m<module>\u001b[1;34m()\u001b[0m\n\u001b[0;32m     31\u001b[0m \u001b[0mcounter\u001b[0m \u001b[1;33m=\u001b[0m \u001b[1;36m0\u001b[0m\u001b[1;33m\u001b[0m\u001b[0m\n\u001b[0;32m     32\u001b[0m \u001b[1;32mfor\u001b[0m \u001b[0mL\u001b[0m \u001b[1;32min\u001b[0m \u001b[0mtqdm\u001b[0m\u001b[1;33m(\u001b[0m\u001b[0mrange\u001b[0m\u001b[1;33m(\u001b[0m\u001b[1;36m1\u001b[0m\u001b[1;33m,\u001b[0m \u001b[1;36m1500000\u001b[0m\u001b[1;33m)\u001b[0m\u001b[1;33m)\u001b[0m \u001b[1;33m:\u001b[0m\u001b[1;33m\u001b[0m\u001b[0m\n\u001b[1;32m---> 33\u001b[1;33m     \u001b[1;32mif\u001b[0m \u001b[0mis_valid_triangle\u001b[0m\u001b[1;33m(\u001b[0m\u001b[0mL\u001b[0m\u001b[1;33m)\u001b[0m \u001b[1;33m:\u001b[0m\u001b[1;33m\u001b[0m\u001b[0m\n\u001b[0m\u001b[0;32m     34\u001b[0m         \u001b[0mcounter\u001b[0m \u001b[1;33m+=\u001b[0m \u001b[1;36m1\u001b[0m\u001b[1;33m\u001b[0m\u001b[0m\n\u001b[0;32m     35\u001b[0m \u001b[0mcounter\u001b[0m\u001b[1;33m\u001b[0m\u001b[0m\n",
      "\u001b[1;32m<ipython-input-2-a281bbc4515e>\u001b[0m in \u001b[0;36mis_valid_triangle\u001b[1;34m(L)\u001b[0m\n\u001b[0;32m     15\u001b[0m             \u001b[1;32mfor\u001b[0m \u001b[0mb\u001b[0m \u001b[1;32min\u001b[0m \u001b[0mrange\u001b[0m\u001b[1;33m(\u001b[0m\u001b[0ma\u001b[0m\u001b[1;33m+\u001b[0m\u001b[1;36m1\u001b[0m\u001b[1;33m,\u001b[0m \u001b[0mint\u001b[0m\u001b[1;33m(\u001b[0m\u001b[0mL\u001b[0m\u001b[1;33m/\u001b[0m\u001b[1;36m2\u001b[0m\u001b[1;33m)\u001b[0m\u001b[1;33m+\u001b[0m\u001b[1;36m1\u001b[0m\u001b[1;33m)\u001b[0m \u001b[1;33m:\u001b[0m\u001b[1;33m\u001b[0m\u001b[0m\n\u001b[0;32m     16\u001b[0m \u001b[1;33m\u001b[0m\u001b[0m\n\u001b[1;32m---> 17\u001b[1;33m                 \u001b[1;32mif\u001b[0m \u001b[0ma\u001b[0m \u001b[1;33m+\u001b[0m \u001b[0mb\u001b[0m \u001b[1;33m+\u001b[0m \u001b[0mc\u001b[0m \u001b[1;33m>\u001b[0m \u001b[0mL\u001b[0m \u001b[1;33m:\u001b[0m\u001b[1;33m\u001b[0m\u001b[0m\n\u001b[0m\u001b[0;32m     18\u001b[0m                     \u001b[1;32mbreak\u001b[0m\u001b[1;33m\u001b[0m\u001b[0m\n\u001b[0;32m     19\u001b[0m \u001b[1;33m\u001b[0m\u001b[0m\n",
      "\u001b[1;31mKeyboardInterrupt\u001b[0m: "
     ]
    },
    {
     "name": "stderr",
     "output_type": "stream",
     "text": [
      "\n",
      "  0%|                                  | 165/1499999 [00:21<7:05:23, 58.76it/s]"
     ]
    }
   ],
   "source": [
    "from tqdm import tqdm\n",
    "\n",
    "def is_valid_triangle(L) :\n",
    "    \"\"\"\n",
    "    finds sides a, b, c of a triange of length L\n",
    "    : params L: length of triangle\n",
    "    : returns bool: true if forms only one right angled triangle\n",
    "    \"\"\"\n",
    "    L_counter = 0\n",
    "    \n",
    "    for c in range(L-2, int(L/3), -1) :\n",
    "\n",
    "        for a in range(1, int(L/2)) :\n",
    "\n",
    "            for b in range(a+1, int(L/2)+1) :\n",
    "\n",
    "                if a + b + c > L : \n",
    "                    break\n",
    "\n",
    "                if a + b + c == L and a**2 + b**2 == c**2 :\n",
    "                    #print(a, b, c)\n",
    "                    L_counter += 1\n",
    "                    if L_counter > 1 :\n",
    "                        return False\n",
    "                    \n",
    "                    \n",
    "    if L_counter == 1 :\n",
    "        return True\n",
    "    return False\n",
    "\n",
    "counter = 0\n",
    "for L in tqdm(range(1, 1500000)) :\n",
    "    if is_valid_triangle(L) :\n",
    "        counter += 1\n",
    "counter"
   ]
  },
  {
   "cell_type": "code",
   "execution_count": null,
   "metadata": {},
   "outputs": [],
   "source": []
  }
 ],
 "metadata": {
  "kernelspec": {
   "display_name": "Python 3",
   "language": "python",
   "name": "python3"
  },
  "language_info": {
   "codemirror_mode": {
    "name": "ipython",
    "version": 3
   },
   "file_extension": ".py",
   "mimetype": "text/x-python",
   "name": "python",
   "nbconvert_exporter": "python",
   "pygments_lexer": "ipython3",
   "version": "3.6.5"
  }
 },
 "nbformat": 4,
 "nbformat_minor": 4
}
