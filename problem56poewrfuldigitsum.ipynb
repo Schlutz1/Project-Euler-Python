{
 "cells": [
  {
   "cell_type": "code",
   "execution_count": 1,
   "metadata": {},
   "outputs": [
    {
     "data": {
      "text/plain": [
       "'\\n\\nA googol (10^100) is a massive number: one followed by one-hundred zeros; \\n100^100 is almost unimaginably large: one followed by two-hundred zeros. \\nDespite their size, the sum of the digits in each number is only 1.\\n\\nConsidering natural numbers of the form, a^b, where a, b < 100, what is the maximum digital sum?\\n'"
      ]
     },
     "execution_count": 1,
     "metadata": {},
     "output_type": "execute_result"
    }
   ],
   "source": [
    "# problem 56\n",
    "'''\n",
    "\n",
    "A googol (10^100) is a massive number: one followed by one-hundred zeros; \n",
    "100^100 is almost unimaginably large: one followed by two-hundred zeros. \n",
    "Despite their size, the sum of the digits in each number is only 1.\n",
    "\n",
    "Considering natural numbers of the form, a^b, where a, b < 100, what is the maximum digital sum?\n",
    "'''"
   ]
  },
  {
   "cell_type": "code",
   "execution_count": 11,
   "metadata": {},
   "outputs": [
    {
     "name": "stdout",
     "output_type": "stream",
     "text": [
      "972\n"
     ]
    }
   ],
   "source": [
    "a, b, = 90, 90\n",
    "\n",
    "max_digital_sum = 0\n",
    "for a in range(90, 100) :\n",
    "    for b in range(90, 100) :\n",
    "        \n",
    "        x = sum([int(x) for x in str(a**b)])\n",
    "        if x > max_digital_sum :\n",
    "            max_digital_sum = x\n",
    "            \n",
    "        \n",
    "print(max_digital_sum)"
   ]
  },
  {
   "cell_type": "code",
   "execution_count": null,
   "metadata": {},
   "outputs": [],
   "source": []
  }
 ],
 "metadata": {
  "kernelspec": {
   "display_name": "Python 3",
   "language": "python",
   "name": "python3"
  },
  "language_info": {
   "codemirror_mode": {
    "name": "ipython",
    "version": 3
   },
   "file_extension": ".py",
   "mimetype": "text/x-python",
   "name": "python",
   "nbconvert_exporter": "python",
   "pygments_lexer": "ipython3",
   "version": "3.6.5"
  }
 },
 "nbformat": 4,
 "nbformat_minor": 2
}
